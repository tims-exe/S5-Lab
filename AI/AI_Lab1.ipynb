{
 "cells": [
  {
   "cell_type": "markdown",
   "id": "b16418d3-795e-4152-80a4-69e49d0e9dcc",
   "metadata": {},
   "source": [
    "### DFS"
   ]
  },
  {
   "cell_type": "code",
   "execution_count": 33,
   "id": "910a870a-f238-4bc0-84a3-4fd1dd97efd1",
   "metadata": {},
   "outputs": [],
   "source": [
    "def dfs(graph, start_node):\n",
    "\n",
    "    #Initialise stack with start node\n",
    "    stack = [start_node]\n",
    "\n",
    "    #initialize empty lists\n",
    "    visited = []\n",
    "    result = []\n",
    "    print(\"Stack : \", stack)\n",
    "    #loop through stack until its empty\n",
    "    while stack:\n",
    "        # set node as stack top element\n",
    "        node = stack.pop()\n",
    "        print(\"\\nCurrent Node : \", node)\n",
    "        #check if node is visited or not\n",
    "        if node not in visited:\n",
    "            # if not visited then set node to visited and add node to result\n",
    "            visited.append(node)\n",
    "            result.append(node)\n",
    "            print(f'Neighbours of {node} : ', graph.get(node))\n",
    "            # loop through the values of node in graph in reverse order\n",
    "            for n in reversed(graph.get(node)):\n",
    "                # if node is not visited add it to stack\n",
    "                if n not in visited:\n",
    "                    stack.append(n)\n",
    "        print(\"Stack : \", stack)\n",
    "    return result"
   ]
  },
  {
   "cell_type": "markdown",
   "id": "90244149-52af-4ecd-9c91-01dd7133e15c",
   "metadata": {},
   "source": [
    "### BFS"
   ]
  },
  {
   "cell_type": "code",
   "execution_count": 35,
   "id": "b141dc65-de32-44a4-9408-0ecc68e52622",
   "metadata": {},
   "outputs": [],
   "source": [
    "def bfs(graph, start_node):\n",
    "    \n",
    "    #Initialise queue with start node\n",
    "    queue = [start_node]\n",
    "\n",
    "    #initialize empty lists\n",
    "    visited = []\n",
    "    result = []\n",
    "    print(\"Queue : \", queue)\n",
    "    #loop through queue until its empty\n",
    "    while queue:\n",
    "        # set node as queue first element\n",
    "        node = queue.pop(0)\n",
    "        print(\"\\nCurrent Node : \", node)\n",
    "        #check if node is visited or not\n",
    "        if node not in visited:\n",
    "\n",
    "            # if not visited then set node to visited and add node to result\n",
    "            visited.append(node)\n",
    "            result.append(node)\n",
    "            print(f'Neighbours of {node} : ', graph.get(node))\n",
    "            # loop through the values of node in graph\n",
    "            for n in graph.get(node):\n",
    "                 # if node is not visited add it to queue\n",
    "                if n not in visited:\n",
    "                    queue.append(n)\n",
    "\n",
    "        print(\"Queue : \", queue)\n",
    "    return result"
   ]
  },
  {
   "cell_type": "markdown",
   "id": "377c8ec6-1b1a-442a-9a6d-71dad085165d",
   "metadata": {},
   "source": [
    "### Input Graph"
   ]
  },
  {
   "cell_type": "code",
   "execution_count": 3,
   "id": "51bda488-ffe7-4103-9e30-c6a041a11db6",
   "metadata": {},
   "outputs": [
    {
     "name": "stdin",
     "output_type": "stream",
     "text": [
      "Enter number of Nodes :  6\n",
      "Enter the Node :  a\n",
      "Enter the Adjacent Nodes of a : b c\n",
      "Enter the Node :  b\n",
      "Enter the Adjacent Nodes of b : a d e\n",
      "Enter the Node :  c\n",
      "Enter the Adjacent Nodes of c : a f\n",
      "Enter the Node :  d\n",
      "Enter the Adjacent Nodes of d : b\n",
      "Enter the Node :  e\n",
      "Enter the Adjacent Nodes of e : b f\n",
      "Enter the Node :  f\n",
      "Enter the Adjacent Nodes of f : c e\n"
     ]
    },
    {
     "name": "stdout",
     "output_type": "stream",
     "text": [
      "\n",
      "Graph :  {'a': ['b', 'c'], 'b': ['a', 'd', 'e'], 'c': ['a', 'f'], 'd': ['b'], 'e': ['b', 'f'], 'f': ['c', 'e']} \n",
      "\n"
     ]
    },
    {
     "name": "stdin",
     "output_type": "stream",
     "text": [
      "Enter the Start Node :  a\n"
     ]
    }
   ],
   "source": [
    "#initialise graph\n",
    "graph = {}\n",
    "\n",
    "#number of nodes\n",
    "n = int(input(\"Enter number of Nodes : \"))\n",
    "\n",
    "for i in range(n):\n",
    "    #enter the key\n",
    "    key = input(\"Enter the Node : \")\n",
    "    \n",
    "    #enter the value\n",
    "    values = input(f'Enter the Adjacent Nodes of {key} :')  \n",
    "    \n",
    "    # if the value is empty then replace [''] with [] (error with graph.get)\n",
    "    if values == '':\n",
    "        graph[key] = []\n",
    "    else:\n",
    "        graph[key] = values.split(' ')\n",
    "\n",
    "print(\"\\nGraph : \", graph, '\\n')\n",
    "\n",
    "\n",
    "#input start node\n",
    "start_node = input(\"Enter the Start Node : \")"
   ]
  },
  {
   "cell_type": "code",
   "execution_count": 44,
   "id": "0225dd7a-cadd-427c-984f-ce1e0ec0536b",
   "metadata": {},
   "outputs": [
    {
     "name": "stdout",
     "output_type": "stream",
     "text": [
      "OUTPUT\n",
      "Stack :  ['A']\n",
      "\n",
      "Current Node :  A\n",
      "Neighbours of A :  ['B', 'C']\n",
      "Stack :  ['C', 'B']\n",
      "\n",
      "Current Node :  B\n",
      "Neighbours of B :  ['A', 'D', 'E']\n",
      "Stack :  ['C', 'E', 'D']\n",
      "\n",
      "Current Node :  D\n",
      "Neighbours of D :  ['B']\n",
      "Stack :  ['C', 'E']\n",
      "\n",
      "Current Node :  E\n",
      "Neighbours of E :  ['B', 'F']\n",
      "Stack :  ['C', 'F']\n",
      "\n",
      "Current Node :  F\n",
      "Neighbours of F :  ['C', 'E']\n",
      "Stack :  ['C', 'C']\n",
      "\n",
      "Current Node :  C\n",
      "Neighbours of C :  ['A', 'F']\n",
      "Stack :  ['C']\n",
      "\n",
      "Current Node :  C\n",
      "Stack :  []\n",
      "\n",
      "A -> B -> D -> E -> F -> C"
     ]
    }
   ],
   "source": [
    "#get the result\n",
    "print(\"OUTPUT\")\n",
    "dfs_result = dfs(graph, start_node)\n",
    "\n",
    "#print the result\n",
    "print()\n",
    "for i in dfs_result:\n",
    "    print(i, end='')\n",
    "    if i != dfs_result[-1]:\n",
    "        print(' -> ',end='')"
   ]
  },
  {
   "cell_type": "code",
   "execution_count": 45,
   "id": "f9ccd2c5-a40d-4e1c-99cc-08967675146f",
   "metadata": {},
   "outputs": [
    {
     "name": "stdout",
     "output_type": "stream",
     "text": [
      "OUTPUT\n",
      "Queue :  ['A']\n",
      "\n",
      "Current Node :  A\n",
      "Neighbours of A :  ['B', 'C']\n",
      "Queue :  ['B', 'C']\n",
      "\n",
      "Current Node :  B\n",
      "Neighbours of B :  ['A', 'D', 'E']\n",
      "Queue :  ['C', 'D', 'E']\n",
      "\n",
      "Current Node :  C\n",
      "Neighbours of C :  ['A', 'F']\n",
      "Queue :  ['D', 'E', 'F']\n",
      "\n",
      "Current Node :  D\n",
      "Neighbours of D :  ['B']\n",
      "Queue :  ['E', 'F']\n",
      "\n",
      "Current Node :  E\n",
      "Neighbours of E :  ['B', 'F']\n",
      "Queue :  ['F', 'F']\n",
      "\n",
      "Current Node :  F\n",
      "Neighbours of F :  ['C', 'E']\n",
      "Queue :  ['F']\n",
      "\n",
      "Current Node :  F\n",
      "Queue :  []\n",
      "\n",
      "A -> B -> C -> D -> E -> F"
     ]
    }
   ],
   "source": [
    "print(\"OUTPUT\")\n",
    "#get the result\n",
    "bfs_result = bfs(graph, start_node)\n",
    "\n",
    "#print the result\n",
    "print()\n",
    "for i in bfs_result:\n",
    "    print(i, end='')\n",
    "    if i != bfs_result[-1]:\n",
    "        print(' -> ',end='')"
   ]
  },
  {
   "cell_type": "markdown",
   "id": "c2fad582-e117-4d8f-b403-f0466c7fe44f",
   "metadata": {},
   "source": [
    "### Fibonacci"
   ]
  },
  {
   "cell_type": "code",
   "execution_count": 16,
   "id": "17da58a7-fe5f-4f3d-bc9d-890a12edfcbd",
   "metadata": {},
   "outputs": [
    {
     "name": "stdin",
     "output_type": "stream",
     "text": [
      "Enter limit :  10\n"
     ]
    },
    {
     "name": "stdout",
     "output_type": "stream",
     "text": [
      "0\n",
      "1\n",
      "1\n",
      "2\n",
      "3\n",
      "5\n",
      "8\n",
      "13\n",
      "21\n",
      "34\n"
     ]
    }
   ],
   "source": [
    "# 0 1 1 2 3 5 8 13 21\n",
    "n = int(input(\"Enter limit : \"))\n",
    "a = 0\n",
    "b = 1\n",
    "for i in range(n):\n",
    "    print(a)\n",
    "    c = a\n",
    "    a = b\n",
    "    b = c+b"
   ]
  },
  {
   "cell_type": "markdown",
   "id": "d97efda5-9766-4dd2-a602-092ecf529171",
   "metadata": {},
   "source": [
    "### Prime Numbers"
   ]
  },
  {
   "cell_type": "code",
   "execution_count": 42,
   "id": "28b5aa42-e55f-4313-9e9b-4ad51e102b58",
   "metadata": {},
   "outputs": [
    {
     "name": "stdin",
     "output_type": "stream",
     "text": [
      "Enter starting number 5\n",
      "Enter ending number 30\n"
     ]
    },
    {
     "name": "stdout",
     "output_type": "stream",
     "text": [
      "5\n",
      "7\n",
      "11\n",
      "13\n",
      "17\n",
      "19\n",
      "23\n",
      "29\n"
     ]
    }
   ],
   "source": [
    "m = int(input(\"Enter starting number\"))\n",
    "n = int(input(\"Enter ending number\"))\n",
    "\n",
    "if m > 1:\n",
    "    for i in range(m, n+1):\n",
    "        for j in range(2, i):\n",
    "            if i%j == 0 :\n",
    "                break\n",
    "        else :\n",
    "            print(i)"
   ]
  }
 ],
 "metadata": {
  "kernelspec": {
   "display_name": "Python 3 (ipykernel)",
   "language": "python",
   "name": "python3"
  },
  "language_info": {
   "codemirror_mode": {
    "name": "ipython",
    "version": 3
   },
   "file_extension": ".py",
   "mimetype": "text/x-python",
   "name": "python",
   "nbconvert_exporter": "python",
   "pygments_lexer": "ipython3",
   "version": "3.12.6"
  }
 },
 "nbformat": 4,
 "nbformat_minor": 5
}
