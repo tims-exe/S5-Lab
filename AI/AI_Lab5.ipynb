{
 "cells": [
  {
   "cell_type": "code",
   "execution_count": 4,
   "id": "eb76be4e-280f-4045-8b5d-d395a56607e1",
   "metadata": {},
   "outputs": [],
   "source": [
    "import pytholog as pl\n",
    "from sympy import *"
   ]
  },
  {
   "cell_type": "code",
   "execution_count": 5,
   "id": "e95c68bd-bc23-44f9-a536-887b16c88ad9",
   "metadata": {},
   "outputs": [],
   "source": [
    "init_printing(\"mathjax\") # sympy expression printing"
   ]
  },
  {
   "cell_type": "code",
   "execution_count": 6,
   "id": "6d3214e9-3cb5-4a7a-9fb5-690ca27ae11c",
   "metadata": {},
   "outputs": [
    {
     "data": {
      "image/png": "[encoded data removed]",
      "text/latex": [
       "$\\displaystyle \\frac{1}{2}$"
      ],
      "text/plain": [
       "1/2"
      ]
     },
     "execution_count": 6,
     "metadata": {},
     "output_type": "execute_result"
    }
   ],
   "source": [
    "Rational(1, 2)"
   ]
  },
  {
   "cell_type": "code",
   "execution_count": 7,
   "id": "7d24d62d-17f3-42a8-b78a-9aba369ed8d6",
   "metadata": {},
   "outputs": [],
   "source": [
    "x = symbols(\"x\")\n",
    "a,b,c = symbols(\"a,b,c\", real=True)\n",
    "i,j,n = symbols(\"i,j,n\", integer=True)\n",
    "f = symbols(\"f\", cls=Function)"
   ]
  },
  {
   "cell_type": "code",
   "execution_count": 12,
   "id": "1892a6d0-c8ac-4238-a67d-98163d0da48f",
   "metadata": {},
   "outputs": [
    {
     "data": {
      "image/png": "[encoded data removed]",
      "text/latex": [
       "$\\displaystyle i$"
      ],
      "text/plain": [
       "ⅈ"
      ]
     },
     "execution_count": 12,
     "metadata": {},
     "output_type": "execute_result"
    }
   ],
   "source": [
    "I    # imaginary unit"
   ]
  },
  {
   "cell_type": "code",
   "execution_count": 11,
   "id": "d820be68-562c-4fa4-bbb2-f2a606eb247f",
   "metadata": {},
   "outputs": [
    {
     "data": {
      "image/png": "[encoded data removed]",
      "text/latex": [
       "$\\displaystyle \\sum_{i=1}^{n} x^{i}$"
      ],
      "text/plain": [
       "  n     \n",
       " ___    \n",
       " ╲      \n",
       "  ╲    i\n",
       "  ╱   x \n",
       " ╱      \n",
       " ‾‾‾    \n",
       "i = 1   "
      ]
     },
     "execution_count": 11,
     "metadata": {},
     "output_type": "execute_result"
    }
   ],
   "source": [
    "Sum(x**i, (i, 1, n))"
   ]
  },
  {
   "cell_type": "code",
   "execution_count": 13,
   "id": "cec8872d-edf0-49ea-a31c-b243affa3468",
   "metadata": {},
   "outputs": [
    {
     "data": {
      "image/png": "[encoded data removed]",
      "text/latex": [
       "$\\displaystyle \\prod_{i=1}^{n} \\left(i + x\\right)$"
      ],
      "text/plain": [
       "  n        \n",
       "─┬─┬─      \n",
       " │ │  i + x\n",
       " │ │       \n",
       "i = 1      "
      ]
     },
     "execution_count": 13,
     "metadata": {},
     "output_type": "execute_result"
    }
   ],
   "source": [
    "Product(x+i, (i, 1, n))"
   ]
  },
  {
   "cell_type": "markdown",
   "id": "789d1013-0cc8-4569-b137-43d8707b0a61",
   "metadata": {},
   "source": [
    "### Set A"
   ]
  },
  {
   "cell_type": "code",
   "execution_count": 17,
   "id": "f6bef55f-76ec-490b-9a0d-c106febd2868",
   "metadata": {},
   "outputs": [],
   "source": [
    "from sympy.logic.inference import satisfiable\n",
    "from sympy.logic.inference import valid\n",
    "from sympy.logic.inference import *"
   ]
  },
  {
   "cell_type": "code",
   "execution_count": 14,
   "id": "5f755460-f9b8-41bf-b0fe-d9207939c9ab",
   "metadata": {},
   "outputs": [],
   "source": [
    "rain = Symbol(\"rain\") # It is raining."
   ]
  },
  {
   "cell_type": "code",
   "execution_count": 15,
   "id": "574ce8e0-ad2f-43e7-b2a3-3279ea72f300",
   "metadata": {},
   "outputs": [],
   "source": [
    "hagrid= Symbol(\"hagrid\") #Harry Visited hagrid"
   ]
  },
  {
   "cell_type": "code",
   "execution_count": 16,
   "id": "60068682-17cc-4311-9a68-a3074bc28cb2",
   "metadata": {},
   "outputs": [],
   "source": [
    "dumbledore= Symbol(\"dumbledore\") #Harry Visited Dumbledore"
   ]
  },
  {
   "cell_type": "code",
   "execution_count": 19,
   "id": "55be6d62-8f9b-4c2e-9936-a2e2a08dde54",
   "metadata": {},
   "outputs": [],
   "source": [
    "'''\n",
    "1. If it didn’t rain, Harry visited Hagrid today.\n",
    "2. Harry visited Hagrid or Dumbledore today, but not both.\n",
    "3. Harry visited Dumbledore today.\n",
    "'''\n",
    "\n",
    "knowledge = And(Implies(Not(rain), hagrid), Or(hagrid, dumbledore), Not(And(hagrid,dumbledore)), dumbledore)"
   ]
  },
  {
   "cell_type": "code",
   "execution_count": 20,
   "id": "74253b5c-8857-4e29-bdaa-7ecd9b208467",
   "metadata": {},
   "outputs": [
    {
     "data": {
      "image/png": "[encoded data removed]",
      "text/latex": [
       "$\\displaystyle dumbledore \\wedge \\left(\\neg rain \\Rightarrow hagrid\\right) \\wedge \\neg \\left(dumbledore \\wedge hagrid\\right) \\wedge \\left(dumbledore \\vee hagrid\\right)$"
      ],
      "text/plain": [
       "dumbledore ∧ (¬rain → hagrid) ∧ ¬(dumbledore ∧ hagrid) ∧ (dumbledore ∨ hagrid)"
      ]
     },
     "execution_count": 20,
     "metadata": {},
     "output_type": "execute_result"
    }
   ],
   "source": [
    "knowledge"
   ]
  },
  {
   "cell_type": "code",
   "execution_count": 1,
   "id": "7de8ee04-3ec6-41f1-9cd9-6b65b3cb2a0d",
   "metadata": {},
   "outputs": [
    {
     "name": "stdout",
     "output_type": "stream",
     "text": [
      "{B: True, A: True}\n",
      "B\n",
      "A\n"
     ]
    }
   ],
   "source": [
    "from sympy import symbols, And, Or, satisfiable\n",
    "\n",
    "A, B = symbols('A B')\n",
    "\n",
    "knowledge = And(A, Or(A, B))\n",
    "\n",
    "models = satisfiable(And(knowledge, A))\n",
    "\n",
    "print(models)\n",
    "for model in models:\n",
    "    print(model)"
   ]
  },
  {
   "cell_type": "code",
   "execution_count": 33,
   "id": "33d679bc-59c3-4e4a-82c0-0696767c14a6",
   "metadata": {},
   "outputs": [
    {
     "name": "stdout",
     "output_type": "stream",
     "text": [
      "Implies(dumbledore, rain)\n",
      "True\n"
     ]
    }
   ],
   "source": [
    "p3 = And(Not(hagrid),dumbledore)\n",
    "p4 = Implies(dumbledore,rain)\n",
    "\n",
    "print(valid(Implies(And(p3,p4),rain)))"
   ]
  },
  {
   "cell_type": "code",
   "execution_count": 34,
   "id": "1f250ab8-e15a-4686-bc49-37d3e6d0ed31",
   "metadata": {},
   "outputs": [
    {
     "name": "stdout",
     "output_type": "stream",
     "text": [
      "rain & ~hagrid\n",
      "{rain: True, hagrid: False}\n"
     ]
    }
   ],
   "source": [
    "p1=And((rain),Not(hagrid))\n",
    "\n",
    "print(p1)\n",
    "print(satisfiable(p1))"
   ]
  },
  {
   "cell_type": "code",
   "execution_count": 35,
   "id": "4013c4ee-78ce-421f-8eb6-10c985ee6e17",
   "metadata": {},
   "outputs": [
    {
     "data": {
      "image/png": "[encoded data removed]",
      "text/latex": [
       "$\\displaystyle dumbledore \\wedge \\left(\\neg rain \\Rightarrow hagrid\\right) \\wedge \\neg \\left(dumbledore \\wedge hagrid\\right) \\wedge \\left(dumbledore \\vee hagrid\\right)$"
      ],
      "text/plain": [
       "dumbledore ∧ (¬rain → hagrid) ∧ ¬(dumbledore ∧ hagrid) ∧ (dumbledore ∨ hagrid)"
      ]
     },
     "execution_count": 35,
     "metadata": {},
     "output_type": "execute_result"
    }
   ],
   "source": [
    "from sympy.logic import *\n",
    "# Create new classes, each having a name, or a symbol, representing each proposition.\n",
    "rain = Symbol(\"rain\") # It is raining.\n",
    "hagrid = Symbol(\"hagrid\") # Harry visited Hagrid\n",
    "dumbledore = Symbol(\"dumbledore\") # Harry visited Dumbledore\n",
    "# Save sentences into the KB\n",
    "knowledge = And( # Starting from the \"And\" logical connective, becasue each proposition represents knowledge that we know to be true.\n",
    "    Implies(Not(rain), hagrid), # ¬(It is raining) → (Harry visited Hagrid)\n",
    "    Or(hagrid, dumbledore), # (Harry visited Hagrid) ∨ (Harry visited Dumbledore).\n",
    "    Not(And(hagrid, dumbledore)), # ¬(Harry visited Hagrid ∧ Harry visited Dumbledore) i.e. Harry did not visit both Hagrid and Dumbledore.\n",
    "    dumbledore # Harry visited Dumbledore. Note that while previous propositions contained multiple symbols with connectors, this is a proposition consisting of one symbol. This means that we take as a fact that, in this KB, Harry visited Dumbledore.\n",
    ")\n",
    "\n",
    "knowledge"
   ]
  },
  {
   "cell_type": "markdown",
   "id": "004072ac-643b-4c2a-9411-862daef71c8e",
   "metadata": {},
   "source": [
    "### Set B"
   ]
  },
  {
   "cell_type": "markdown",
   "id": "cb1b2178-8acc-4c9b-b4d6-23e4877d861b",
   "metadata": {},
   "source": [
    "1. It is not sunny this afternoon and it is colder than yesterday.\n",
    "2. We will go swimming only if it is sunny.\n",
    "3. If we do not go swimming then we will take a canoe trip.\n",
    "4. If we take a canoe trip, then we will be home by sunset.\n",
    "\n",
    "Question:\n",
    "<br>\n",
    "i) Represent the knowledge base\\n\n",
    "<br>\n",
    "ii) Check whether they will be home by sunset"
   ]
  },
  {
   "cell_type": "code",
   "execution_count": 2,
   "id": "45c31c8f-f71a-4ab3-a574-eb19274a029b",
   "metadata": {},
   "outputs": [],
   "source": [
    "# imports\n",
    "from sympy import *\n",
    "from sympy.logic.inference import satisfiable\n",
    "from sympy.logic.inference import valid\n",
    "from sympy.logic.inference import *\n",
    "from sympy import symbols, And, Or, satisfiable"
   ]
  },
  {
   "cell_type": "code",
   "execution_count": 3,
   "id": "5985409f-5a49-4464-bb2f-384632646a2e",
   "metadata": {},
   "outputs": [],
   "source": [
    "# symbols\n",
    "\n",
    "sunny = Symbol('sunny')         # it is sunny\n",
    "\n",
    "colder = Symbol('colder')       # it is colder than yesterday\n",
    "\n",
    "swimming = Symbol('swimming')   # will go swimming\n",
    "\n",
    "canoe = Symbol('canoe')         # will take a canoe trip\n",
    "\n",
    "sunset = Symbol('sunset')       # will be home by sunset"
   ]
  },
  {
   "cell_type": "code",
   "execution_count": 4,
   "id": "866f4bab-1e56-4510-8ee5-c9b65cade569",
   "metadata": {},
   "outputs": [
    {
     "data": {
      "text/latex": [
       "$\\displaystyle colder \\wedge \\left(canoe \\Rightarrow sunset\\right) \\wedge \\left(swimming \\Rightarrow sunny\\right) \\wedge \\left(\\neg swimming \\Rightarrow canoe\\right) \\wedge \\neg sunny$"
      ],
      "text/plain": [
       "colder & ~sunny & (Implies(canoe, sunset)) & (Implies(swimming, sunny)) & (Implies(~swimming, canoe))"
      ]
     },
     "execution_count": 4,
     "metadata": {},
     "output_type": "execute_result"
    }
   ],
   "source": [
    "# i) Represent the knowledge base\n",
    "\n",
    "knowledge = And(\n",
    "    And(Not(sunny), colder),\n",
    "    Implies(swimming, sunny),\n",
    "    Implies(Not(swimming), canoe),\n",
    "    Implies(canoe, sunset),\n",
    ")\n",
    "\n",
    "knowledge"
   ]
  },
  {
   "cell_type": "code",
   "execution_count": 5,
   "id": "12365587-2780-4d4c-bfac-d7219570d606",
   "metadata": {},
   "outputs": [
    {
     "name": "stdout",
     "output_type": "stream",
     "text": [
      "{canoe: True, colder: True, sunset: True, sunny: False, swimming: False}\n",
      "\n",
      "They will be home by sunset...\n"
     ]
    }
   ],
   "source": [
    "# ii) Check whether they will be home by sunset\n",
    "\n",
    "models = satisfiable(knowledge, all_models = True)\n",
    "\n",
    "for model in models:\n",
    "    print(model)\n",
    "\n",
    "    if model[sunset]:\n",
    "        print(\"\\nThey will be home by sunset...\")"
   ]
  },
  {
   "cell_type": "code",
   "execution_count": null,
   "id": "44ca1fcf-8a26-44a4-973f-7451687e1f94",
   "metadata": {},
   "outputs": [],
   "source": [
    "import requests\n",
    "from PIL import Image\n",
    "from io import BytesIO\n",
    "\n",
    "url = \"https://api.thecatapi.com/v1/images/search\"\n",
    "\n",
    "response = requests.get(url)\n",
    "\n",
    "image_url = response.json()[0]['url']\n",
    "print(f\"Image URL: {image_url}\")\n",
    "\n",
    "image_response = requests.get(image_url)\n",
    "\n",
    "if image_response.status_code == 200:\n",
    "    image = Image.open(BytesIO(image_response.content))\n",
    "    display(image)\n",
    "else:\n",
    "    print(f\"Failed to fetch image. Status code: {image_response.status_code}\")\n"
   ]
  }
 ],
 "metadata": {
  "kernelspec": {
   "display_name": "Python 3 (ipykernel)",
   "language": "python",
   "name": "python3"
  },
  "language_info": {
   "codemirror_mode": {
    "name": "ipython",
    "version": 3
   },
   "file_extension": ".py",
   "mimetype": "text/x-python",
   "name": "python",
   "nbconvert_exporter": "python",
   "pygments_lexer": "ipython3",
   "version": "3.12.6"
  }
 },
 "nbformat": 4,
 "nbformat_minor": 5
}
