{
 "cells": [
  {
   "cell_type": "code",
   "execution_count": 6,
   "id": "48fe9b94-7316-4c61-8d0c-f79ffdd21184",
   "metadata": {},
   "outputs": [],
   "source": [
    "from itertools import permutations "
   ]
  },
  {
   "cell_type": "code",
   "execution_count": 36,
   "id": "21c4f3c3-9a37-4ee4-af90-14e8b3a8b5f1",
   "metadata": {},
   "outputs": [
    {
     "name": "stdout",
     "output_type": "stream",
     "text": [
      "Places to Visit :    a, b, c, d\n"
     ]
    },
    {
     "name": "stdin",
     "output_type": "stream",
     "text": [
      "\n",
      "Enter Starting Point :  a\n"
     ]
    },
    {
     "name": "stdout",
     "output_type": "stream",
     "text": [
      "\n",
      "Paths : \n",
      "a -> b -> c -> d -> a\tCost : 8\n",
      "a -> b -> d -> c -> a\tCost : 20\n",
      "a -> c -> b -> d -> a\tCost : 22\n",
      "a -> c -> d -> b -> a\tCost : 20\n",
      "a -> d -> b -> c -> a\tCost : 22\n",
      "a -> d -> c -> b -> a\tCost : 8\n",
      "\n",
      "Path Taken by Salesmen : a -> b -> c -> d -> a\n",
      "Cost of Journey : 8\n"
     ]
    }
   ],
   "source": [
    "s = list('abcd')\n",
    "\n",
    "print('Places to Visit :   ',', '.join(s))\n",
    "\n",
    "start = input(\"\\nEnter Starting Point : \")\n",
    "\n",
    "while start not in s:\n",
    "    print('Invalid Input ! ')\n",
    "    start = input(\"Enter Starting Point : \")\n",
    "s.remove(start)\n",
    "\n",
    "p = permutations(s)\n",
    "paths = []\n",
    "\n",
    "for i in p:\n",
    "    b,c,d = i\n",
    "    paths.append([start,b,c,d,start])\n",
    "\n",
    "map = {\n",
    "    'a': [('b', 1), ('c', 9), ('d', 2)],\n",
    "    'b': [('a', 1), ('c', 3), ('d', 8)],\n",
    "    'c': [('a', 9), ('b', 3), ('d', 2)],\n",
    "    'd': [('a', 2), ('b', 8), ('c', 2)],\n",
    "}\n",
    "\n",
    "for path in paths:\n",
    "    total_cost = 0\n",
    "    for place in range(1, len(path)):\n",
    "        path_cost = 0\n",
    "        for prev in map[path[place-1]]:\n",
    "            if prev[0] == path[place]:\n",
    "                path_cost = prev[1]\n",
    "        total_cost += path_cost\n",
    "    path.append(total_cost)\n",
    "\n",
    "print('\\nPaths : ')\n",
    "min_cost = float('inf')\n",
    "for path in paths:\n",
    "    if path[-1] < min_cost:\n",
    "        min_cost = path[-1]\n",
    "    for place in range(len(path)-1):\n",
    "        if place < len(path) - 2:\n",
    "            print(path[place], end = ' -> ')\n",
    "        else:\n",
    "            print(path[place],end='')\n",
    "    print('\\tCost :',path[-1])\n",
    "\n",
    "for path in paths:\n",
    "    if path[-1] == min_cost:\n",
    "        print('\\nPath Taken by Salesmen : ', end = '')\n",
    "        for place in range(len(path)-1):\n",
    "            if place < len(path) - 2:\n",
    "                print(path[place], end = ' -> ')\n",
    "            else:\n",
    "                print(path[place])\n",
    "        break\n",
    "print('Cost of Journey :', min_cost)"
   ]
  }
 ],
 "metadata": {
  "kernelspec": {
   "display_name": "Python 3 (ipykernel)",
   "language": "python",
   "name": "python3"
  },
  "language_info": {
   "codemirror_mode": {
    "name": "ipython",
    "version": 3
   },
   "file_extension": ".py",
   "mimetype": "text/x-python",
   "name": "python",
   "nbconvert_exporter": "python",
   "pygments_lexer": "ipython3",
   "version": "3.8.10"
  }
 },
 "nbformat": 4,
 "nbformat_minor": 5
}
