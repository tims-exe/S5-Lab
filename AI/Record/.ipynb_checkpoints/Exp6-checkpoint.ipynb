{
 "cells": [
  {
   "cell_type": "code",
   "execution_count": 6,
   "id": "0e4a419a-5627-43e9-8078-f59150137a62",
   "metadata": {},
   "outputs": [],
   "source": [
    "from sympy import *\n",
    "from sympy.logic.inference import satisfiable, valid"
   ]
  },
  {
   "cell_type": "code",
   "execution_count": 21,
   "id": "5fef2317-d84b-411c-9cc6-b03ecf4d7bba",
   "metadata": {},
   "outputs": [],
   "source": [
    "sunny = Symbol('sunny')         # it is sunny\n",
    "\n",
    "colder = Symbol('colder')       # it is colder than yesterday\n",
    "\n",
    "swimming = Symbol('swimming')   # will go swimming\n",
    "\n",
    "canoe = Symbol('canoe')         # will take a canoe trip\n",
    "\n",
    "sunset = Symbol('sunset')       # will be home by sunset"
   ]
  },
  {
   "cell_type": "code",
   "execution_count": 22,
   "id": "4be52d10-3730-4f9b-8f57-118fd77f17cc",
   "metadata": {},
   "outputs": [
    {
     "data": {
      "text/latex": [
       "$\\displaystyle colder \\wedge \\left(canoe \\Rightarrow sunset\\right) \\wedge \\left(swimming \\Rightarrow sunny\\right) \\wedge \\left(\\neg swimming \\Rightarrow canoe\\right) \\wedge \\neg sunny$"
      ],
      "text/plain": [
       "colder & ~sunny & (Implies(canoe, sunset)) & (Implies(swimming, sunny)) & (Implies(~swimming, canoe))"
      ]
     },
     "execution_count": 22,
     "metadata": {},
     "output_type": "execute_result"
    }
   ],
   "source": [
    "\n",
    "knowledge = And(\n",
    "    And(Not(sunny), colder),\n",
    "    Implies(swimming, sunny),\n",
    "    Implies(Not(swimming), canoe),\n",
    "    Implies(canoe, sunset),\n",
    ")\n",
    "\n",
    "knowledge"
   ]
  },
  {
   "cell_type": "code",
   "execution_count": 26,
   "id": "58780f5b-c0e6-4568-959f-0ebab4627ec5",
   "metadata": {},
   "outputs": [
    {
     "name": "stdout",
     "output_type": "stream",
     "text": [
      "{sunset: True, canoe: True, colder: True, swimming: False, sunny: False}\n",
      "\n",
      "They will be home by sunset...\n"
     ]
    }
   ],
   "source": [
    "models = satisfiable(knowledge, all_models = True)\n",
    "\n",
    "for model in models:\n",
    "    print(model)\n",
    "\n",
    "    if model[sunset]:\n",
    "        print(\"\\nThey will be home by sunset...\")"
   ]
  }
 ],
 "metadata": {
  "kernelspec": {
   "display_name": "Python 3 (ipykernel)",
   "language": "python",
   "name": "python3"
  },
  "language_info": {
   "codemirror_mode": {
    "name": "ipython",
    "version": 3
   },
   "file_extension": ".py",
   "mimetype": "text/x-python",
   "name": "python",
   "nbconvert_exporter": "python",
   "pygments_lexer": "ipython3",
   "version": "3.12.6"
  }
 },
 "nbformat": 4,
 "nbformat_minor": 5
}
