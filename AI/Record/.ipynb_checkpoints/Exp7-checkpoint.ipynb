{
 "cells": [
  {
   "cell_type": "markdown",
   "id": "78639b8d-6c99-4de2-88c3-089433f5a6d5",
   "metadata": {},
   "source": [
    "### Water Jug Problem"
   ]
  },
  {
   "cell_type": "code",
   "execution_count": 9,
   "id": "c7a4d251-57cc-4358-94c2-70d903fbfb2c",
   "metadata": {},
   "outputs": [],
   "source": [
    "def water_jug_problem(v1, v2, target):\n",
    "    j1, j2 = 0, 0\n",
    "\n",
    "    stack = [(j1, j2, [])]\n",
    "    visited = set()\n",
    "\n",
    "    while stack:\n",
    "        j1, j2, states = stack.pop()\n",
    "\n",
    "        if (j1 == target and j2 == 0) or (j2 == target and j1 == 0):\n",
    "            return states\n",
    "        \n",
    "        state = (j1, j2)\n",
    "        if state not in visited:\n",
    "            visited.add(state)\n",
    "\n",
    "            possible_states = [\n",
    "                (v1, j2, 'Fill Jug 1'),\n",
    "                (j1, v2, 'Fill Jug 2'),\n",
    "                (0, j2, 'Empty Jug 1'),\n",
    "                (j1, 0, 'Empty Jug 2'),\n",
    "                (max(0, j1 - (v2 - j2)), min(v2, (j1 + j2)), 'Pour Jug 1 to Jug 2'),\n",
    "                (min(v1, (j1 + j2)), max(0, j2 - (v1 - j1)), 'Pour Jug 2 to Jug 1'),\n",
    "            ]\n",
    "\n",
    "            for new_j1, new_j2, s in possible_states:\n",
    "                new_states = states + [s]\n",
    "                if (new_j1, new_j2) not in visited:\n",
    "                    stack.append((new_j1, new_j2, new_states))\n",
    "    return None"
   ]
  },
  {
   "cell_type": "code",
   "execution_count": 8,
   "id": "24d419e2-75b2-4253-914b-c618bc15a20c",
   "metadata": {},
   "outputs": [
    {
     "name": "stdin",
     "output_type": "stream",
     "text": [
      "Enter volume of Jug 1 :  3\n",
      "Enter volume of Jug 2 :  5\n",
      "Enter Target Volumne :  4\n"
     ]
    },
    {
     "name": "stdout",
     "output_type": "stream",
     "text": [
      "Fill Jug 2\n",
      "Pour Jug 2 to Jug 1\n",
      "Empty Jug 2\n",
      "Pour Jug 1 to Jug 2\n",
      "Fill Jug 1\n",
      "Pour Jug 1 to Jug 2\n",
      "Empty Jug 2\n",
      "Pour Jug 1 to Jug 2\n",
      "Fill Jug 1\n",
      "Pour Jug 1 to Jug 2\n"
     ]
    }
   ],
   "source": [
    "v1 = int(input(\"Enter volume of Jug 1 : \"))\n",
    "v2 = int(input(\"Enter volume of Jug 2 : \"))\n",
    "\n",
    "target = int(input(\"Enter Target Volumne : \"))\n",
    "\n",
    "result = water_jug_problem(v1, v2, target)\n",
    "\n",
    "for i in result:\n",
    "    print(i)"
   ]
  }
 ],
 "metadata": {
  "kernelspec": {
   "display_name": "Python 3 (ipykernel)",
   "language": "python",
   "name": "python3"
  },
  "language_info": {
   "codemirror_mode": {
    "name": "ipython",
    "version": 3
   },
   "file_extension": ".py",
   "mimetype": "text/x-python",
   "name": "python",
   "nbconvert_exporter": "python",
   "pygments_lexer": "ipython3",
   "version": "3.12.6"
  }
 },
 "nbformat": 4,
 "nbformat_minor": 5
}
