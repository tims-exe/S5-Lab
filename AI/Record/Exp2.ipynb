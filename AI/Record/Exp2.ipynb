{
 "cells": [
  {
   "cell_type": "markdown",
   "id": "61f97260-2261-4300-86d2-a5d568e35a91",
   "metadata": {},
   "source": [
    "### Palindrome"
   ]
  },
  {
   "cell_type": "code",
   "execution_count": 2,
   "id": "d5aa1542-936a-4ed1-935f-02ae3d61faae",
   "metadata": {},
   "outputs": [
    {
     "name": "stdin",
     "output_type": "stream",
     "text": [
      "Enter a String abcba\n"
     ]
    },
    {
     "name": "stdout",
     "output_type": "stream",
     "text": [
      "Palindrome\n"
     ]
    }
   ],
   "source": [
    "s = input(\"Enter a String\")\n",
    "\n",
    "rev = s[::-1]\n",
    "\n",
    "if s == rev:\n",
    "    print(\"Palindrome\")\n",
    "else:\n",
    "    print(\"Not Palindrome\")"
   ]
  },
  {
   "cell_type": "markdown",
   "id": "e3264ed8-0d1c-4680-a13f-df1f995c1855",
   "metadata": {},
   "source": [
    "### Occurences"
   ]
  },
  {
   "cell_type": "code",
   "execution_count": 10,
   "id": "6f8b5adb-ac22-4b32-9142-72c8d9abd008",
   "metadata": {},
   "outputs": [
    {
     "name": "stdout",
     "output_type": "stream",
     "text": [
      "this : 1\n",
      "is : 2\n",
      "a : 2\n",
      "string : 2\n",
      "and : 1\n",
      "it : 1\n",
      "test : 1\n"
     ]
    }
   ],
   "source": [
    "s = 'this is a string and it is a test string'\n",
    "\n",
    "lst = s.split()\n",
    "\n",
    "d = {}\n",
    "\n",
    "for i in lst:\n",
    "    if i not in d:\n",
    "        d[i] = 1\n",
    "    else:\n",
    "        d[i] += 1\n",
    "\n",
    "for key, value in d.items():\n",
    "    print (key, ':', value)"
   ]
  },
  {
   "cell_type": "markdown",
   "id": "a4eeda71-135e-4701-a3f4-83f7e140d83a",
   "metadata": {},
   "source": [
    "### sum of diagonal and off diagonal"
   ]
  },
  {
   "cell_type": "code",
   "execution_count": 19,
   "id": "15c11578-ed93-44e1-8e7b-a08e8ed18aba",
   "metadata": {},
   "outputs": [
    {
     "name": "stdin",
     "output_type": "stream",
     "text": [
      "Enter number of rows :  4\n",
      "Enter number of columns :  4\n"
     ]
    },
    {
     "name": "stdout",
     "output_type": "stream",
     "text": [
      "Enter elements : \n"
     ]
    },
    {
     "name": "stdin",
     "output_type": "stream",
     "text": [
      " 1\n",
      " 2\n",
      " 3\n",
      " 4\n",
      " 5\n",
      " 6\n",
      " 7\n",
      " 8\n",
      " 9\n",
      " 10\n",
      " 11\n",
      " 12\n",
      " 13\n",
      " 14\n",
      " 15\n",
      " 16\n"
     ]
    },
    {
     "name": "stdout",
     "output_type": "stream",
     "text": [
      "[[1, 2, 3, 4], [5, 6, 7, 8], [9, 10, 11, 12], [13, 14, 15, 16]]\n",
      "Sum of Diagonal :  34\n",
      "Sum of Off Diagonal :  34\n"
     ]
    }
   ],
   "source": [
    "r = int(input(\"Enter number of rows : \"))\n",
    "c = int(input(\"Enter number of columns : \"))\n",
    "\n",
    "m = []\n",
    "\n",
    "print(\"Enter elements : \")\n",
    "for i in range(r):\n",
    "    temp = []\n",
    "    for j in range(c):\n",
    "        x = int(input())\n",
    "        temp.append(x)\n",
    "    m.append(temp)\n",
    "\n",
    "print(m)\n",
    "\n",
    "sum_diagonal = 0\n",
    "sum_offdiagonal = 0\n",
    "\n",
    "for i in range(len(m)):\n",
    "    for j in range(len(m[0])):\n",
    "        if i == j:\n",
    "            #print(m[i][j])\n",
    "            sum_diagonal += m[i][j]\n",
    "        if i+j == c-1:\n",
    "            #print(m[i][j])\n",
    "            sum_offdiagonal += m[i][j]\n",
    "\n",
    "print('Sum of Diagonal : ', sum_diagonal)\n",
    "print('Sum of Off Diagonal : ', sum_offdiagonal)"
   ]
  },
  {
   "cell_type": "markdown",
   "id": "4f9eb99f-ff97-421b-b867-a7ec9bec67de",
   "metadata": {},
   "source": [
    "### Fibonacci Series"
   ]
  },
  {
   "cell_type": "code",
   "execution_count": 21,
   "id": "ed2e5fbd-b4d9-40f3-b72b-f429be5b4806",
   "metadata": {},
   "outputs": [
    {
     "name": "stdout",
     "output_type": "stream",
     "text": [
      "0\n",
      "1\n",
      "1\n",
      "2\n",
      "3\n",
      "5\n",
      "8\n",
      "13\n",
      "21\n",
      "34\n"
     ]
    }
   ],
   "source": [
    "a = 0\n",
    "b = 1\n",
    "\n",
    "n = 10\n",
    "for i in range(n):\n",
    "    print(a)\n",
    "    a, b = b, a+b"
   ]
  },
  {
   "cell_type": "markdown",
   "id": "a36fc5ad-0213-49fb-80ea-e98ab647b080",
   "metadata": {},
   "source": [
    "### prime numbers in the range of m to n"
   ]
  },
  {
   "cell_type": "code",
   "execution_count": 25,
   "id": "a8aaf558-b372-4e56-9071-2f88c43ed8b0",
   "metadata": {},
   "outputs": [
    {
     "name": "stdout",
     "output_type": "stream",
     "text": [
      "2\n",
      "3\n",
      "5\n",
      "7\n",
      "11\n",
      "13\n",
      "17\n",
      "19\n",
      "23\n",
      "29\n"
     ]
    }
   ],
   "source": [
    "m = 0\n",
    "n = 30\n",
    "\n",
    "for i in range(m, n+1):\n",
    "    if i not in [0, 1]:\n",
    "        for j in range(2, i//2+1):\n",
    "            if i%j == 0:\n",
    "                break\n",
    "        else:\n",
    "            print(i)"
   ]
  }
 ],
 "metadata": {
  "kernelspec": {
   "display_name": "Python 3 (ipykernel)",
   "language": "python",
   "name": "python3"
  },
  "language_info": {
   "codemirror_mode": {
    "name": "ipython",
    "version": 3
   },
   "file_extension": ".py",
   "mimetype": "text/x-python",
   "name": "python",
   "nbconvert_exporter": "python",
   "pygments_lexer": "ipython3",
   "version": "3.12.6"
  }
 },
 "nbformat": 4,
 "nbformat_minor": 5
}
