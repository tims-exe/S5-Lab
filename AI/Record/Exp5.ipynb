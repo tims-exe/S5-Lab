{
 "cells": [
  {
   "cell_type": "markdown",
   "id": "0c140056-d239-4e20-9f5e-f3ce2a8ae458",
   "metadata": {},
   "source": [
    "### Map Colouring Problem"
   ]
  },
  {
   "cell_type": "code",
   "execution_count": 2,
   "id": "f668acc5-cf8e-499c-baf7-389502763a90",
   "metadata": {},
   "outputs": [],
   "source": [
    "colours = ['Red', 'Green', 'Blue']\n",
    "\n",
    "states = ['wa', 'nt', 'q', 'sa', 't', 'nsw', 'v']\n",
    "\n",
    "m = {\n",
    "    'wa': ['nt', 'sa'],\n",
    "    'nt': ['wa', 'sa', 'q'],\n",
    "    'q': ['nt', 'sa', 'nsw'],\n",
    "    'sa': ['wa', 'nt', 'q', 'nsw', 'v'],\n",
    "    't': [],\n",
    "    'nsw': ['q', 'v', 'sa'],\n",
    "    'v': ['nsw', 'sa'],\n",
    "}\n",
    "\n",
    "state_colours = {}"
   ]
  },
  {
   "cell_type": "code",
   "execution_count": 7,
   "id": "41ef91b7-a1d3-45b2-b4ac-a4036f2ad041",
   "metadata": {},
   "outputs": [],
   "source": [
    "def isNotTaken(colour, state):\n",
    "    for i in m.get(state):\n",
    "        if i in state_colours and colour == state_colours[i]:\n",
    "            return False\n",
    "    return True\n",
    "\n",
    "def getStateColour(state):\n",
    "    for c in colours:\n",
    "        if isNotTaken(c, state):\n",
    "            return c\n",
    "    return None"
   ]
  },
  {
   "cell_type": "code",
   "execution_count": 8,
   "id": "6756fce6-594c-4089-8c44-ac05489445dc",
   "metadata": {},
   "outputs": [
    {
     "name": "stdout",
     "output_type": "stream",
     "text": [
      "{'wa': 'Red', 'nt': 'Green', 'q': 'Red', 'sa': 'Blue', 't': 'Red', 'nsw': 'Green', 'v': 'Red'}\n"
     ]
    }
   ],
   "source": [
    "for s in states:\n",
    "    c = getStateColour(s)\n",
    "    state_colours[s] = c\n",
    "\n",
    "print(state_colours)"
   ]
  }
 ],
 "metadata": {
  "kernelspec": {
   "display_name": "Python 3 (ipykernel)",
   "language": "python",
   "name": "python3"
  },
  "language_info": {
   "codemirror_mode": {
    "name": "ipython",
    "version": 3
   },
   "file_extension": ".py",
   "mimetype": "text/x-python",
   "name": "python",
   "nbconvert_exporter": "python",
   "pygments_lexer": "ipython3",
   "version": "3.12.6"
  }
 },
 "nbformat": 4,
 "nbformat_minor": 5
}
