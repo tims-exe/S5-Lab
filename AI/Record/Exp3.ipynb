{
 "cells": [
  {
   "cell_type": "code",
   "execution_count": 2,
   "id": "0d262864-1006-4004-807f-18f4f8bdc581",
   "metadata": {},
   "outputs": [],
   "source": [
    "\"\"\" graph = {\n",
    "    'a': ['b', 'c'],\n",
    "    'b': ['a', 'd', 'e'],\n",
    "    'c': ['a', 'f'],\n",
    "    'd': ['b'],\n",
    "    'e': ['b', 'f'],\n",
    "    'f': ['c', 'e'],\n",
    "} \"\"\"\n",
    "\n",
    "\n",
    "graph = {\n",
    "    'A': ['B'],\n",
    "    'B': ['D', 'C'],\n",
    "    'C': [],\n",
    "    'D': ['C', 'E'],\n",
    "    'E': ['A']\n",
    "}"
   ]
  },
  {
   "cell_type": "markdown",
   "id": "b9485797-38c9-4ae7-923b-0e485104e9a4",
   "metadata": {},
   "source": [
    "### BFS"
   ]
  },
  {
   "cell_type": "code",
   "execution_count": 8,
   "id": "eb8f77aa-074d-4374-912a-e9be4862fd04",
   "metadata": {},
   "outputs": [],
   "source": [
    "def bfs(graph, start):\n",
    "    queue = [start]\n",
    "    result = []\n",
    "    visited = set()\n",
    "    while queue:\n",
    "        current = queue.pop(0)\n",
    "        print(f'\\nCurrent : {current}')\n",
    "        if current not in visited:\n",
    "            result.append(current)\n",
    "            visited.add(current)\n",
    "            \n",
    "            print(f'Neighbours of {current} : {graph.get(current)}')\n",
    "            for n in graph.get(current):\n",
    "                if n not in visited:\n",
    "                    queue.append(n)\n",
    "        print(f'Queue : {queue}')\n",
    "    return result"
   ]
  },
  {
   "cell_type": "code",
   "execution_count": 9,
   "id": "9a506659-6025-450b-b11e-9649d8eb5c55",
   "metadata": {},
   "outputs": [
    {
     "name": "stdout",
     "output_type": "stream",
     "text": [
      "Enter start node :  d\n"
     ]
    },
    {
     "name": "stdout",
     "output_type": "stream",
     "text": [
      "\n",
      "Current : d\n",
      "Neighbours of d : ['b']\n",
      "Queue : ['b']\n",
      "\n",
      "Current : b\n",
      "Neighbours of b : ['a', 'd', 'e']\n",
      "Queue : ['a', 'e']\n",
      "\n",
      "Current : a\n",
      "Neighbours of a : ['b', 'c']\n",
      "Queue : ['e', 'c']\n",
      "\n",
      "Current : e\n",
      "Neighbours of e : ['b', 'f']\n",
      "Queue : ['c', 'f']\n",
      "\n",
      "Current : c\n",
      "Neighbours of c : ['a', 'f']\n",
      "Queue : ['f', 'f']\n",
      "\n",
      "Current : f\n",
      "Neighbours of f : ['c', 'e']\n",
      "Queue : ['f']\n",
      "\n",
      "Current : f\n",
      "Queue : []\n",
      "\n",
      "\n",
      "Result : ['d', 'b', 'a', 'e', 'c', 'f']\n"
     ]
    }
   ],
   "source": [
    "start = input(\"Enter start node : \")\n",
    "\n",
    "bfs_result = bfs(graph, start)\n",
    "\n",
    "print(f'\\n\\nResult : {bfs_result}')"
   ]
  },
  {
   "cell_type": "code",
   "execution_count": 3,
   "id": "497bc6ee-01f3-42c0-9e8b-7fd56d8608b0",
   "metadata": {},
   "outputs": [],
   "source": [
    "def dfs(graph, start):\n",
    "    stack = [start]\n",
    "    result = []\n",
    "    visited = set()\n",
    "\n",
    "    while stack:\n",
    "        current = stack.pop()\n",
    "        print(f'\\nCurrent : {current}')\n",
    "        if current not in visited:\n",
    "            result.append(current)\n",
    "            visited.add(current)\n",
    "            print(f'Neighbours of {current} : {graph.get(current)}')\n",
    "            for n in reversed(graph.get(current)):\n",
    "                if n not in visited:\n",
    "                    stack.append(n)\n",
    "        print(f'Stack : {stack}')\n",
    "    return result"
   ]
  },
  {
   "cell_type": "code",
   "execution_count": 4,
   "id": "73981f89-69ce-410e-a3d8-3b4140b68a3b",
   "metadata": {},
   "outputs": [
    {
     "name": "stdout",
     "output_type": "stream",
     "text": [
      "\n",
      "Current : A\n",
      "Neighbours of A : ['B']\n",
      "Stack : ['B']\n",
      "\n",
      "Current : B\n",
      "Neighbours of B : ['D', 'C']\n",
      "Stack : ['C', 'D']\n",
      "\n",
      "Current : D\n",
      "Neighbours of D : ['C', 'E']\n",
      "Stack : ['C', 'E', 'C']\n",
      "\n",
      "Current : C\n",
      "Neighbours of C : []\n",
      "Stack : ['C', 'E']\n",
      "\n",
      "Current : E\n",
      "Neighbours of E : ['A']\n",
      "Stack : ['C']\n",
      "\n",
      "Current : C\n",
      "Stack : []\n",
      "\n",
      "\n",
      "Result : ['A', 'B', 'D', 'C', 'E']\n"
     ]
    }
   ],
   "source": [
    "start = 'A'\n",
    "\n",
    "dfs_result = dfs(graph, start)\n",
    "\n",
    "print(f'\\n\\nResult : {dfs_result}')"
   ]
  }
 ],
 "metadata": {
  "kernelspec": {
   "display_name": "Python 3",
   "language": "python",
   "name": "python3"
  },
  "language_info": {
   "codemirror_mode": {
    "name": "ipython",
    "version": 3
   },
   "file_extension": ".py",
   "mimetype": "text/x-python",
   "name": "python",
   "nbconvert_exporter": "python",
   "pygments_lexer": "ipython3",
   "version": "3.12.6"
  }
 },
 "nbformat": 4,
 "nbformat_minor": 5
}
