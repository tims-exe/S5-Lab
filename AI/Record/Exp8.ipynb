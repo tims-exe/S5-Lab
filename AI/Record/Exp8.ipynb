{
 "cells": [
  {
   "cell_type": "markdown",
   "id": "0f0685b1-f1e6-4570-bc11-8e67b1660a96",
   "metadata": {},
   "source": [
    "### Traveling Salesman Problem"
   ]
  },
  {
   "cell_type": "code",
   "execution_count": 17,
   "id": "8d79c484-d128-4b27-a31b-d68045314cb4",
   "metadata": {},
   "outputs": [],
   "source": [
    "from itertools import permutations"
   ]
  },
  {
   "cell_type": "code",
   "execution_count": 19,
   "id": "415eac16-b159-43cd-9055-c612a3a7bda7",
   "metadata": {},
   "outputs": [],
   "source": [
    "map = {\n",
    "    'a': [('b', 1), ('c', 9), ('d', 2)],\n",
    "    'b': [('a', 1), ('c', 3), ('d', 8)],\n",
    "    'c': [('a', 9), ('b', 3), ('d', 2)],\n",
    "    'd': [('a', 2), ('b', 8), ('c', 2)],\n",
    "}"
   ]
  },
  {
   "cell_type": "code",
   "execution_count": 36,
   "id": "6e292b63-0573-407d-8796-79560f2d80f0",
   "metadata": {},
   "outputs": [
    {
     "name": "stdin",
     "output_type": "stream",
     "text": [
      "\n",
      "Enter Starting Point :  a\n"
     ]
    },
    {
     "name": "stdout",
     "output_type": "stream",
     "text": [
      "['a', 'b', 'c', 'd', 'a', 8]\n",
      "['a', 'b', 'd', 'c', 'a', 20]\n",
      "['a', 'c', 'b', 'd', 'a', 22]\n",
      "['a', 'c', 'd', 'b', 'a', 20]\n",
      "['a', 'd', 'b', 'c', 'a', 22]\n",
      "['a', 'd', 'c', 'b', 'a', 8]\n"
     ]
    }
   ],
   "source": [
    "s = list('abcd')\n",
    "\n",
    "start = input(\"\\nEnter Starting Point : \")\n",
    "\n",
    "while start not in s:\n",
    "    print('Invalid Input ! ')\n",
    "    start = input(\"Enter Starting Point : \")\n",
    "s.remove(start)\n",
    "\n",
    "p = permutations(s)\n",
    "paths = []\n",
    "\n",
    "for i in p:\n",
    "    b,c,d = i\n",
    "    paths.append([start, b, c, d, start])\n",
    "\n",
    "for path in paths:\n",
    "    total_cost = 0\n",
    "    for place in range(1, len(path)):\n",
    "        for prev, cost in map[path[place-1]]:\n",
    "            if prev == path[place]:\n",
    "                total_cost += cost\n",
    "                break\n",
    "    path.append(total_cost)\n",
    "\n",
    "for i in paths:\n",
    "    print(i)"
   ]
  },
  {
   "cell_type": "code",
   "execution_count": 56,
   "id": "9c7893db-27a6-4180-a112-3d7bed08e7ce",
   "metadata": {},
   "outputs": [],
   "source": [
    "map2 = [\n",
    "    [0, 1, 9, 2],\n",
    "    [1, 0, 3, 8],\n",
    "    [9, 3, 0, 2],\n",
    "    [2, 8, 2, 0],\n",
    "]\n",
    "\n",
    "cities = {\n",
    "    0: 'a',\n",
    "    1: 'b',\n",
    "    2: 'c',\n",
    "    3: 'd',\n",
    "}"
   ]
  },
  {
   "cell_type": "code",
   "execution_count": 68,
   "id": "a2acf895-cb6f-407b-983e-df487ba756c5",
   "metadata": {},
   "outputs": [
    {
     "name": "stdout",
     "output_type": "stream",
     "text": [
      "[0, 1, 2, 3, 0, 8]\n",
      "[0, 1, 3, 2, 0, 20]\n",
      "[0, 2, 1, 3, 0, 22]\n",
      "[0, 2, 3, 1, 0, 20]\n",
      "[0, 3, 1, 2, 0, 22]\n",
      "[0, 3, 2, 1, 0, 8]\n"
     ]
    }
   ],
   "source": [
    "s = 0\n",
    "\n",
    "p = permutations([1,2,3])\n",
    "paths2 = []\n",
    "\n",
    "for i in p:\n",
    "    b,c,d = i\n",
    "    paths2.append([s,b,c,d,s])\n",
    "\n",
    "for path2 in paths2:\n",
    "    total_cost = 0\n",
    "    for place in range(1, len(path2)):\n",
    "        #print(cities[path2[place-1]], cities[path2[place]], path2[place-1], path2[place], map2[path2[place-1]][path2[place]])\n",
    "        total_cost += map2[path2[place-1]][path2[place]]\n",
    "    path2.append(total_cost)\n",
    "\n",
    "for i in paths2:\n",
    "    for j in range(len(i)):\n",
    "        if j == len(i)-1:\n",
    "            print(' Cost :', i[j])\n",
    "        else:\n",
    "            print(cities[i[j]])"
   ]
  }
 ],
 "metadata": {
  "kernelspec": {
   "display_name": "Python 3 (ipykernel)",
   "language": "python",
   "name": "python3"
  },
  "language_info": {
   "codemirror_mode": {
    "name": "ipython",
    "version": 3
   },
   "file_extension": ".py",
   "mimetype": "text/x-python",
   "name": "python",
   "nbconvert_exporter": "python",
   "pygments_lexer": "ipython3",
   "version": "3.12.6"
  }
 },
 "nbformat": 4,
 "nbformat_minor": 5
}
