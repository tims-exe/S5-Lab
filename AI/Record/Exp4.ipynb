{
 "cells": [
  {
   "cell_type": "code",
   "execution_count": 11,
   "id": "b9ea26d1-fd8d-4b77-a39b-39909ae81f85",
   "metadata": {},
   "outputs": [],
   "source": [
    "greedy_graph = {\n",
    "    'A': ['B', 'C'],\n",
    "    'B': ['A', 'D'],\n",
    "    'C': ['A', 'B', 'D'],\n",
    "    'D': ['B', 'C', 'E'],\n",
    "    'E': ['D', 'F'],\n",
    "    'F': ['E'],\n",
    "}\n",
    "\n",
    "greedy_heuristic = {\n",
    "    'A': 7,\n",
    "    'B': 6,\n",
    "    'C': 2,\n",
    "    'D': 1,\n",
    "    'E': 0,\n",
    "    'F': 3  \n",
    "}\n",
    "\n",
    "\n",
    "a_star_graph = {\n",
    "    'A': [('B', 1), ('C', 4)],\n",
    "    'B': [('D', 1), ('E', 2)],\n",
    "    'C': [('F', 5)],\n",
    "    'D': [('H', 1)],\n",
    "    'E': [('G', 3)],\n",
    "    'F': [('G', 1)],\n",
    "    'G': [],\n",
    "    'H': [('G', 6)]\n",
    "}\n",
    "\n",
    "a_star_heuristic = {\n",
    "    'A': 7,\n",
    "    'B': 6,\n",
    "    'C': 2,\n",
    "    'D': 3,\n",
    "    'E': 4,\n",
    "    'F': 1,\n",
    "    'G': 0,\n",
    "    'H': 1,\n",
    "}"
   ]
  },
  {
   "cell_type": "markdown",
   "id": "5178e021-9a70-4b81-8426-5daa9cd81e4e",
   "metadata": {},
   "source": [
    "### Greedy BFS"
   ]
  },
  {
   "cell_type": "code",
   "execution_count": 7,
   "id": "c79a008c-bd12-476c-a15d-53c18da7d53f",
   "metadata": {},
   "outputs": [],
   "source": [
    "def greedy(start, goal, graph, heuristic):\n",
    "    # node, heuristic, path\n",
    "    open_list = [(start, heuristic[start], [])]\n",
    "    closed_list = set()\n",
    "\n",
    "    while open_list:\n",
    "        c, h, path = open_list.pop(0)\n",
    "\n",
    "        # if c not in closed_list then\n",
    "        # add it to path\n",
    "        # check if its the goal\n",
    "        # add it to closed list\n",
    "        \n",
    "        if c not in closed_list:\n",
    "            path = path + [c]\n",
    "\n",
    "            if goal == c:\n",
    "                return path\n",
    "            closed_list.add(c)\n",
    "\n",
    "            # get neighbour with minimum heuristic\n",
    "            \n",
    "            min_h = 999\n",
    "            for n in graph[c]:\n",
    "                if n not in closed_list:\n",
    "                    if heuristic[n] < min_h:\n",
    "                        min_h = heuristic[n]\n",
    "                        min_n = n\n",
    "            open_list.append((min_n, heuristic[min_n], path))"
   ]
  },
  {
   "cell_type": "code",
   "execution_count": 12,
   "id": "0c3e72eb-69a9-4fb3-85fe-291469f3a66a",
   "metadata": {},
   "outputs": [
    {
     "name": "stdout",
     "output_type": "stream",
     "text": [
      "['A', 'C', 'D', 'E']\n"
     ]
    }
   ],
   "source": [
    "result = greedy('A', 'E', greedy_graph, greedy_heuristic)\n",
    "\n",
    "print(result)"
   ]
  },
  {
   "cell_type": "markdown",
   "id": "7221b463-5090-4b82-a35b-6c9eacf8056a",
   "metadata": {},
   "source": [
    "### A* Search"
   ]
  },
  {
   "cell_type": "code",
   "execution_count": 17,
   "id": "f89b165e-953a-4716-a564-7cc198f6fe47",
   "metadata": {},
   "outputs": [],
   "source": [
    "# open list =  f, g, current node, path\n",
    "# f: total estimate cost to reach goal (g + h)\n",
    "# g: actual cost from start to current node\n",
    "\n",
    "def a_star(start, goal, graph, heuristic):\n",
    "    open_list = [(0, 0, start, [])]\n",
    "    closed_list = set()\n",
    "\n",
    "    while open_list:\n",
    "        min_index = 0\n",
    "        for i in range(len(open_list)):\n",
    "            if open_list[i][0] < open_list[min_index][0]:\n",
    "                min_index = i\n",
    "        f, g, current, path = open_list.pop(min_index)\n",
    "\n",
    "        if current not in closed_list:\n",
    "            path = path + [current]\n",
    "\n",
    "            if current == goal:\n",
    "                return path\n",
    "            closed_list.add(current)\n",
    "\n",
    "            for n, cost in graph[current]:\n",
    "                if n not in closed_list:\n",
    "                    new_g = g + cost\n",
    "                    new_f = new_g + heuristic[n]\n",
    "                    open_list.append((new_f, new_g, n, path))\n",
    "    return None"
   ]
  },
  {
   "cell_type": "code",
   "execution_count": 18,
   "id": "b46a2cba-c99f-4af9-b5af-14ac15608746",
   "metadata": {},
   "outputs": [
    {
     "name": "stdout",
     "output_type": "stream",
     "text": [
      "['A', 'B', 'E', 'G']\n"
     ]
    }
   ],
   "source": [
    "result = a_star('A', 'G', a_star_graph, a_star_heuristic)\n",
    "\n",
    "print(result)"
   ]
  }
 ],
 "metadata": {
  "kernelspec": {
   "display_name": "Python 3 (ipykernel)",
   "language": "python",
   "name": "python3"
  },
  "language_info": {
   "codemirror_mode": {
    "name": "ipython",
    "version": 3
   },
   "file_extension": ".py",
   "mimetype": "text/x-python",
   "name": "python",
   "nbconvert_exporter": "python",
   "pygments_lexer": "ipython3",
   "version": "3.12.6"
  }
 },
 "nbformat": 4,
 "nbformat_minor": 5
}
