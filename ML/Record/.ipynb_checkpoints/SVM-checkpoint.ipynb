{
 "cells": [
  {
   "cell_type": "code",
   "execution_count": 17,
   "id": "734e3aa8-e2b4-4a74-b6f0-ffde053bd742",
   "metadata": {},
   "outputs": [],
   "source": [
    "import pandas as pd\n",
    "from sklearn.datasets import load_digits, load_iris\n",
    "from sklearn.model_selection import train_test_split\n",
    "from sklearn.svm import SVC\n",
    "from sklearn.metrics import confusion_matrix"
   ]
  },
  {
   "cell_type": "code",
   "execution_count": 18,
   "id": "c78b6573-eec5-4f30-a369-05d29a669962",
   "metadata": {},
   "outputs": [
    {
     "name": "stdout",
     "output_type": "stream",
     "text": [
      "[[55  0  0  0  0  0  0  0  0  0]\n",
      " [ 0 51  0  0  0  0  0  0  2  0]\n",
      " [ 0  0 53  0  0  0  0  0  0  0]\n",
      " [ 0  0  1 38  0  0  0  0  0  0]\n",
      " [ 0  0  0  0 66  0  0  0  0  0]\n",
      " [ 0  1  0  1  0 62  1  0  0  0]\n",
      " [ 0  0  0  0  0  0 48  0  1  0]\n",
      " [ 0  0  0  0  0  0  0 49  0  0]\n",
      " [ 0  4  0  0  0  0  0  0 54  0]\n",
      " [ 0  0  0  0  0  2  0  1  2 48]]\n",
      "\n",
      "[[0. 0. 2. ... 8. 0. 0.]\n",
      " [0. 0. 3. ... 8. 0. 0.]\n",
      " [0. 0. 1. ... 7. 0. 0.]\n",
      " ...\n",
      " [0. 0. 9. ... 7. 0. 0.]\n",
      " [0. 0. 0. ... 0. 0. 0.]\n",
      " [0. 0. 9. ... 7. 0. 0.]]\n"
     ]
    }
   ],
   "source": [
    "digits = load_digits()\n",
    "\n",
    "x = digits.data\n",
    "y = digits.target\n",
    "\n",
    "x_train, x_test, y_train, y_test = train_test_split(x, y, test_size = 0.3)\n",
    "\n",
    "model = SVC(kernel = 'linear')\n",
    "\n",
    "model.fit(x_train, y_train)\n",
    "\n",
    "y_pred = model.predict(x_test)\n",
    "\n",
    "print(confusion_matrix(y_test, y_pred))\n",
    "print()\n",
    "print(model.support_vectors_)"
   ]
  }
 ],
 "metadata": {
  "kernelspec": {
   "display_name": "Python 3 (ipykernel)",
   "language": "python",
   "name": "python3"
  },
  "language_info": {
   "codemirror_mode": {
    "name": "ipython",
    "version": 3
   },
   "file_extension": ".py",
   "mimetype": "text/x-python",
   "name": "python",
   "nbconvert_exporter": "python",
   "pygments_lexer": "ipython3",
   "version": "3.12.6"
  }
 },
 "nbformat": 4,
 "nbformat_minor": 5
}
