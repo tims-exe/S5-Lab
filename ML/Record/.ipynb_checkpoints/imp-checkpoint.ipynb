{
 "cells": [
  {
   "cell_type": "code",
   "execution_count": null,
   "id": "50511007-efa7-48af-aee6-1ac34ed95026",
   "metadata": {},
   "outputs": [],
   "source": [
    "# dataframe\n",
    "df.head()\n",
    "df.tail()\n",
    "df.columns\n",
    "df.dropna()\n",
    "df.drop_duplicates()\n",
    "df.shape\n",
    "df.iloc\n",
    "df.info()           # to find number of non-null values\n",
    "df.describe()       # statistics of the df\n",
    "\n",
    "# imports\n",
    "\n",
    "# datasets\n",
    "\n",
    "# preprocessing\n",
    "\n",
    "# models\n",
    "\n",
    "# evaluation\n",
    "\n",
    "# printing _ outputs for each\n",
    "kmeans.cluster_centers_"
   ]
  }
 ],
 "metadata": {
  "kernelspec": {
   "display_name": "Python 3 (ipykernel)",
   "language": "python",
   "name": "python3"
  },
  "language_info": {
   "codemirror_mode": {
    "name": "ipython",
    "version": 3
   },
   "file_extension": ".py",
   "mimetype": "text/x-python",
   "name": "python",
   "nbconvert_exporter": "python",
   "pygments_lexer": "ipython3",
   "version": "3.12.6"
  }
 },
 "nbformat": 4,
 "nbformat_minor": 5
}
