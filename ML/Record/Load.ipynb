{
 "cells": [
  {
   "cell_type": "code",
   "execution_count": 1,
   "id": "bf72a792-9bdd-4856-b251-ceeae7f0dffa",
   "metadata": {},
   "outputs": [],
   "source": [
    "from sklearn.datasets import load_iris, load_digits"
   ]
  },
  {
   "cell_type": "code",
   "execution_count": 3,
   "id": "82952d9b-7ff4-4714-85f3-fa0485e71779",
   "metadata": {},
   "outputs": [],
   "source": [
    "iris = load_iris()\n",
    "digits = load_digits()\n",
    "\n",
    "# iris.data\n",
    "# iris.target\n",
    "# iris.feature_names\n",
    "\n",
    "x = iris.data\n",
    "y = iris.target\n",
    "\n",
    "X = digits.data\n",
    "Y = digits.target"
   ]
  },
  {
   "cell_type": "markdown",
   "id": "09e32817-be31-4dea-badf-76d33c50a67a",
   "metadata": {},
   "source": [
    "### Logistic Regression"
   ]
  },
  {
   "cell_type": "code",
   "execution_count": null,
   "id": "2238455d-f647-47dc-bc9b-9e237933c122",
   "metadata": {},
   "outputs": [],
   "source": []
  },
  {
   "cell_type": "markdown",
   "id": "0ba723aa-0dbe-4f32-83f4-8b695c2c4277",
   "metadata": {},
   "source": [
    "### Naive Bayes"
   ]
  },
  {
   "cell_type": "code",
   "execution_count": null,
   "id": "2ea13261-ac3f-4e40-bcb3-63e5de05b2dd",
   "metadata": {},
   "outputs": [],
   "source": []
  },
  {
   "cell_type": "markdown",
   "id": "8f1bd374-e213-48ea-ae46-eaa40ea0d45e",
   "metadata": {},
   "source": [
    "### Decision Tree"
   ]
  },
  {
   "cell_type": "code",
   "execution_count": null,
   "id": "ab21889b-4d96-4317-a3d8-5d7da34ea1d4",
   "metadata": {},
   "outputs": [],
   "source": []
  },
  {
   "cell_type": "markdown",
   "id": "7c228bfa-0683-4140-b981-322fa7f5e5cd",
   "metadata": {},
   "source": [
    "### ANN"
   ]
  },
  {
   "cell_type": "code",
   "execution_count": null,
   "id": "8e2cc73a-1c1d-4bb2-806b-fd58ee67873e",
   "metadata": {},
   "outputs": [],
   "source": []
  },
  {
   "cell_type": "markdown",
   "id": "ee69dcf5-ca0c-498b-bcf9-f3ffb6b7d0cf",
   "metadata": {},
   "source": [
    "### SVM"
   ]
  },
  {
   "cell_type": "code",
   "execution_count": null,
   "id": "be4c8782-3458-40fb-8352-eca327a53163",
   "metadata": {},
   "outputs": [],
   "source": []
  }
 ],
 "metadata": {
  "kernelspec": {
   "display_name": "Python 3 (ipykernel)",
   "language": "python",
   "name": "python3"
  },
  "language_info": {
   "codemirror_mode": {
    "name": "ipython",
    "version": 3
   },
   "file_extension": ".py",
   "mimetype": "text/x-python",
   "name": "python",
   "nbconvert_exporter": "python",
   "pygments_lexer": "ipython3",
   "version": "3.12.6"
  }
 },
 "nbformat": 4,
 "nbformat_minor": 5
}
