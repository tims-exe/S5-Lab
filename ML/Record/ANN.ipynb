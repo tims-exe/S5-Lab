{
 "cells": [
  {
   "cell_type": "code",
   "execution_count": 24,
   "id": "171af929-687a-42c6-9958-f9aad08e2a1b",
   "metadata": {},
   "outputs": [],
   "source": [
    "import pandas as pd\n",
    "from sklearn.preprocessing import StandardScaler\n",
    "from sklearn.model_selection import train_test_split\n",
    "from sklearn.neural_network import MLPClassifier\n",
    "from sklearn.metrics import confusion_matrix, accuracy_score"
   ]
  },
  {
   "cell_type": "code",
   "execution_count": 25,
   "id": "1d57a6d0-8e41-4717-9855-69921cebc978",
   "metadata": {},
   "outputs": [
    {
     "name": "stdout",
     "output_type": "stream",
     "text": [
      "[[19  0  0]\n",
      " [ 1 19  0]\n",
      " [ 0  1 14]]\n",
      "0.9629629629629629\n"
     ]
    }
   ],
   "source": [
    "df = pd.read_csv('../datasets/WINE_DATASET.csv')\n",
    "\n",
    "sc = StandardScaler()\n",
    "\n",
    "x = df.iloc[:, 1:]\n",
    "y = df.iloc[:, 0]\n",
    "\n",
    "x_sc = sc.fit_transform(x)\n",
    "\n",
    "x_train, x_test, y_train, y_test = train_test_split(x_sc, y, test_size = 0.3)\n",
    "\n",
    "model = MLPClassifier(\n",
    "    activation = 'tanh',\n",
    "    solver = 'lbfgs',\n",
    "    hidden_layer_sizes = (16,),\n",
    "    max_iter = 100,\n",
    "    random_state = 42\n",
    ")\n",
    "\n",
    "model.fit(x_train, y_train)\n",
    "\n",
    "y_pred = model.predict(x_test)\n",
    "\n",
    "print(confusion_matrix(y_test, y_pred))\n",
    "print(accuracy_score(y_test, y_pred))"
   ]
  }
 ],
 "metadata": {
  "kernelspec": {
   "display_name": "Python 3 (ipykernel)",
   "language": "python",
   "name": "python3"
  },
  "language_info": {
   "codemirror_mode": {
    "name": "ipython",
    "version": 3
   },
   "file_extension": ".py",
   "mimetype": "text/x-python",
   "name": "python",
   "nbconvert_exporter": "python",
   "pygments_lexer": "ipython3",
   "version": "3.12.6"
  }
 },
 "nbformat": 4,
 "nbformat_minor": 5
}
