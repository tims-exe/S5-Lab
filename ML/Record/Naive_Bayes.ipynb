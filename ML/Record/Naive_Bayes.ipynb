{
 "cells": [
  {
   "cell_type": "code",
   "execution_count": 11,
   "id": "5fb9c18a-51e3-42d8-9fdf-2f0053c52e07",
   "metadata": {},
   "outputs": [],
   "source": [
    "import pandas as pd\n",
    "from sklearn.model_selection import train_test_split\n",
    "from sklearn.naive_bayes import GaussianNB\n",
    "from sklearn.metrics import confusion_matrix, accuracy_score, precision_score, recall_score, classification_report"
   ]
  },
  {
   "cell_type": "code",
   "execution_count": 13,
   "id": "41bd040b-3785-4c81-b623-0c486af5f6c8",
   "metadata": {},
   "outputs": [
    {
     "name": "stdout",
     "output_type": "stream",
     "text": [
      "Confusion Matrix :  [[10  0  0]\n",
      " [ 0 14  1]\n",
      " [ 0  0 20]]\n",
      "\n",
      "Accuracy :  0.9777777777777777\n",
      "Precision :  0.9841269841269842\n",
      "Recall :  0.9777777777777779\n",
      "\n",
      "Classification Report\n",
      "              precision    recall  f1-score   support\n",
      "\n",
      "      setosa       1.00      1.00      1.00        10\n",
      "  versicolor       1.00      0.93      0.97        15\n",
      "   virginica       0.95      1.00      0.98        20\n",
      "\n",
      "    accuracy                           0.98        45\n",
      "   macro avg       0.98      0.98      0.98        45\n",
      "weighted avg       0.98      0.98      0.98        45\n",
      "\n"
     ]
    }
   ],
   "source": [
    "df = pd.read_csv('../datasets/IRIS_DATASET.csv')\n",
    "\n",
    "x = df.iloc[:,:-1]\n",
    "y = df.iloc[:, -1]\n",
    "\n",
    "x_train, x_test, y_train, y_test = train_test_split(x, y, test_size = 0.3)\n",
    "\n",
    "model = GaussianNB()\n",
    "\n",
    "model.fit(x_train, y_train)\n",
    "\n",
    "y_pred = model.predict(x_test)\n",
    "\n",
    "print('Confusion Matrix : ', confusion_matrix(y_test, y_pred))\n",
    "print()\n",
    "\n",
    "print('Accuracy : ', accuracy_score(y_test, y_pred))\n",
    "print('Precision : ', precision_score(y_test, y_pred, average=\"macro\"))\n",
    "print('Recall : ', recall_score(y_test, y_pred, average=\"macro\"))\n",
    "\n",
    "print('\\nClassification Report')\n",
    "print(classification_report(y_test, y_pred))"
   ]
  }
 ],
 "metadata": {
  "kernelspec": {
   "display_name": "Python 3 (ipykernel)",
   "language": "python",
   "name": "python3"
  },
  "language_info": {
   "codemirror_mode": {
    "name": "ipython",
    "version": 3
   },
   "file_extension": ".py",
   "mimetype": "text/x-python",
   "name": "python",
   "nbconvert_exporter": "python",
   "pygments_lexer": "ipython3",
   "version": "3.12.6"
  }
 },
 "nbformat": 4,
 "nbformat_minor": 5
}
