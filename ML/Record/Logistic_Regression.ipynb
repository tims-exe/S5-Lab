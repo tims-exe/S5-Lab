{
 "cells": [
  {
   "cell_type": "code",
   "execution_count": 10,
   "id": "5c33937d-9924-4f4c-9cce-df719c8b29a4",
   "metadata": {},
   "outputs": [],
   "source": [
    "import pandas as pd\n",
    "from sklearn.model_selection import train_test_split\n",
    "from sklearn.linear_model import LogisticRegression\n",
    "from sklearn.metrics import confusion_matrix\n",
    "import numpy as np"
   ]
  },
  {
   "cell_type": "code",
   "execution_count": 6,
   "id": "fe9d44b1-575b-42fa-aa61-b3049916bfa7",
   "metadata": {},
   "outputs": [],
   "source": [
    "df = pd.read_csv(\"../datasets/HEALTH_DATASET.csv\")\n",
    "\n",
    "x = df.iloc[:, :-1]\n",
    "y = df.iloc[:, -1]\n",
    "\n",
    "x_train, x_test, y_train, y_test = train_test_split(x, y, test_size = 0.25)\n",
    "\n",
    "model = LogisticRegression()\n",
    "\n",
    "model.fit(x_train, y_train)\n",
    "\n",
    "y_pred = model.predict(x_test)"
   ]
  },
  {
   "cell_type": "code",
   "execution_count": 8,
   "id": "b04cd7d0-05f5-4996-95f1-fd32f1b023e1",
   "metadata": {},
   "outputs": [
    {
     "data": {
      "text/plain": [
       "array([[112,   6],\n",
       "       [  8, 123]])"
      ]
     },
     "execution_count": 8,
     "metadata": {},
     "output_type": "execute_result"
    }
   ],
   "source": [
    "cm = confusion_matrix(y_test, y_pred)\n",
    "\n",
    "cm"
   ]
  },
  {
   "cell_type": "code",
   "execution_count": 11,
   "id": "0ff276dd-08de-4c95-be0a-36930069c587",
   "metadata": {},
   "outputs": [
    {
     "name": "stdout",
     "output_type": "stream",
     "text": [
      "94.37751004016064\n"
     ]
    }
   ],
   "source": [
    "ac = (cm[0][0] + cm[1][1])/np.sum(cm)\n",
    "\n",
    "print(ac*100)"
   ]
  },
  {
   "cell_type": "code",
   "execution_count": 18,
   "id": "0c65ad07-eb17-4f35-8d5e-a98487f8890d",
   "metadata": {},
   "outputs": [
    {
     "data": {
      "text/plain": [
       "array([0])"
      ]
     },
     "execution_count": 18,
     "metadata": {},
     "output_type": "execute_result"
    }
   ],
   "source": [
    "glucose = 60\n",
    "bp = 100\n",
    "\n",
    "cols = ['glucose', 'bloodpressure']\n",
    "\n",
    "input_data = pd.DataFrame([[glucose, bp]], columns = cols)\n",
    "\n",
    "y_pred = model.predict(input_data)\n",
    "\n",
    "y_pred"
   ]
  }
 ],
 "metadata": {
  "kernelspec": {
   "display_name": "Python 3 (ipykernel)",
   "language": "python",
   "name": "python3"
  },
  "language_info": {
   "codemirror_mode": {
    "name": "ipython",
    "version": 3
   },
   "file_extension": ".py",
   "mimetype": "text/x-python",
   "name": "python",
   "nbconvert_exporter": "python",
   "pygments_lexer": "ipython3",
   "version": "3.12.6"
  }
 },
 "nbformat": 4,
 "nbformat_minor": 5
}
