{
 "cells": [
  {
   "cell_type": "code",
   "execution_count": 14,
   "id": "9c75aa20-b88e-429e-aead-3c73ea5f317a",
   "metadata": {},
   "outputs": [],
   "source": [
    "import pandas as pd\n",
    "from sklearn.preprocessing import LabelEncoder\n",
    "from sklearn.model_selection import train_test_split\n",
    "from sklearn.linear_model import LinearRegression\n",
    "from sklearn.metrics import mean_squared_error"
   ]
  },
  {
   "cell_type": "code",
   "execution_count": 19,
   "id": "4138e5ce-fde3-49ec-bff0-cb82da1afa9b",
   "metadata": {},
   "outputs": [],
   "source": [
    "df = pd.read_csv('../datasets/Housing.csv')\n",
    "\n",
    "le = LabelEncoder()\n",
    "\n",
    "col_encode = ['mainroad', 'guestroom', 'basement', 'hotwaterheating', 'airconditioning', 'prefarea', 'furnishingstatus']\n",
    "\n",
    "for col in col_encode:\n",
    "    df[col] = le.fit_transform(df[col])\n",
    "\n",
    "x = df.iloc[:,1:]\n",
    "y = df.iloc[:,0]\n",
    "\n",
    "x_train, x_test, y_train, y_test = train_test_split(x, y, test_size = 0.2, random_state = 40)"
   ]
  },
  {
   "cell_type": "code",
   "execution_count": 13,
   "id": "3915e107-4775-4059-b3ad-f5fae2dd9aa6",
   "metadata": {},
   "outputs": [],
   "source": [
    "model = LinearRegression()\n",
    "\n",
    "model.fit(x_train, y_train)\n",
    "\n",
    "y_pred = model.predict(x_test)"
   ]
  },
  {
   "cell_type": "code",
   "execution_count": 17,
   "id": "c09165f4-ab68-4aa6-a8fd-b8a7b3456cdd",
   "metadata": {},
   "outputs": [
    {
     "name": "stdout",
     "output_type": "stream",
     "text": [
      "Intercept = 321060.9699314311\n",
      "Coefficients = [ 2.34494716e+02  8.14425980e+04  1.01640555e+06  4.14875551e+05\n",
      "  3.60612570e+05  3.87956481e+05  3.47211550e+05  9.32021299e+05\n",
      "  8.62834919e+05  2.76945050e+05  5.25795871e+05 -2.00164489e+05]\n",
      "MSE = 1466037860959.4463\n"
     ]
    }
   ],
   "source": [
    "print(f'Intercept = {model.intercept_}')\n",
    "print(f'Coefficients = {model.coef_}')\n",
    "print(f'MSE = {mean_squared_error(y_test, y_pred)}')"
   ]
  }
 ],
 "metadata": {
  "kernelspec": {
   "display_name": "Python 3 (ipykernel)",
   "language": "python",
   "name": "python3"
  },
  "language_info": {
   "codemirror_mode": {
    "name": "ipython",
    "version": 3
   },
   "file_extension": ".py",
   "mimetype": "text/x-python",
   "name": "python",
   "nbconvert_exporter": "python",
   "pygments_lexer": "ipython3",
   "version": "3.12.6"
  }
 },
 "nbformat": 4,
 "nbformat_minor": 5
}
