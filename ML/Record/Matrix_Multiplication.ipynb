{
 "cells": [
  {
   "cell_type": "code",
   "execution_count": 4,
   "id": "fb81eebd-e64a-444c-8217-2fb37b6cae96",
   "metadata": {},
   "outputs": [],
   "source": [
    "r1 = 2\n",
    "r2 = 2\n",
    "c1 = 2\n",
    "c2 = 2\n",
    "\n",
    "m1 = [\n",
    "    [1,2],\n",
    "    [3,4]\n",
    "]\n",
    "\n",
    "m2 = [\n",
    "    [5,6],\n",
    "    [7,8]\n",
    "]\n",
    "\n",
    "r = [\n",
    "    [0,0],\n",
    "    [0,0]\n",
    "]"
   ]
  },
  {
   "cell_type": "code",
   "execution_count": 2,
   "id": "6ef6183d-5948-4e7f-8e73-11911abeb7fb",
   "metadata": {},
   "outputs": [
    {
     "name": "stdout",
     "output_type": "stream",
     "text": [
      "[[19 22]\n",
      " [43 50]]\n"
     ]
    }
   ],
   "source": [
    "import numpy as np\n",
    "\n",
    "r = np.dot(m1,m2)\n",
    "\n",
    "print(r)"
   ]
  },
  {
   "cell_type": "code",
   "execution_count": 5,
   "id": "95bfd86c-12e5-48fd-8747-35b905a5fc47",
   "metadata": {},
   "outputs": [
    {
     "name": "stdout",
     "output_type": "stream",
     "text": [
      "[[19, 22], [43, 50]]\n"
     ]
    }
   ],
   "source": [
    "for i in range(r1):\n",
    "    for j in range(c2):\n",
    "        for k in range(c1):\n",
    "            r[i][j] += m1[i][k] * m2[k][j]\n",
    "\n",
    "print(r)"
   ]
  }
 ],
 "metadata": {
  "kernelspec": {
   "display_name": "Python 3 (ipykernel)",
   "language": "python",
   "name": "python3"
  },
  "language_info": {
   "codemirror_mode": {
    "name": "ipython",
    "version": 3
   },
   "file_extension": ".py",
   "mimetype": "text/x-python",
   "name": "python",
   "nbconvert_exporter": "python",
   "pygments_lexer": "ipython3",
   "version": "3.12.6"
  }
 },
 "nbformat": 4,
 "nbformat_minor": 5
}
